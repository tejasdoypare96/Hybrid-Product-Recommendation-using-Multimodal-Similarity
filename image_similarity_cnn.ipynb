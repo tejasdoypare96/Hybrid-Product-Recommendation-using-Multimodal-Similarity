{
 "cells": [
  {
   "cell_type": "markdown",
   "metadata": {
    "colab_type": "text",
    "id": "tuHlALoxomGf"
   },
   "source": [
    "# Apparel Recommendations using Convolutional Neural Network"
   ]
  },
  {
   "cell_type": "markdown",
   "metadata": {
    "colab_type": "text",
    "id": "qaklMEqkomGk"
   },
   "source": [
    "## Get the feature vectors of all apparel images"
   ]
  },
  {
   "cell_type": "code",
   "execution_count": 1,
   "metadata": {
    "colab": {},
    "colab_type": "code",
    "id": "UsZZKNo3omGo",
    "outputId": "8fd226c3-bd75-46ea-ac0b-5464f02e343d"
   },
   "outputs": [],
   "source": [
    "import numpy as np\n",
    "# from keras.preprocessing.image import ImageDataGenerator\n",
    "from keras.models import Sequential\n",
    "from keras.layers import Dropout, Flatten, Dense\n",
    "from keras import applications\n",
    "from sklearn.metrics import pairwise_distances\n",
    "import matplotlib.pyplot as plt\n",
    "import requests\n",
    "from PIL import Image\n",
    "import pandas as pd\n",
    "\n",
    "import pickle\n",
    "from tensorflow.keras.preprocessing.image import ImageDataGenerator\n"
   ]
  },
  {
   "cell_type": "code",
   "execution_count": 2,
   "metadata": {},
   "outputs": [],
   "source": [
    "from tensorflow.keras.preprocessing.image import ImageDataGenerator\n",
    "from tensorflow.keras import applications\n",
    "import numpy as np\n"
   ]
  },
  {
   "cell_type": "code",
   "execution_count": 3,
   "metadata": {},
   "outputs": [],
   "source": [
    "# dimensions of our images.\n",
    "img_width, img_height = 224, 224\n",
    "train_data_dir = 'images/'  # Make sure this path is correct\n",
    "# nb_train_samples = 16042\n",
    "nb_train_samples = 16121\n",
    "batch_size = 1"
   ]
  },
  {
   "cell_type": "code",
   "execution_count": 4,
   "metadata": {},
   "outputs": [
    {
     "name": "stdout",
     "output_type": "stream",
     "text": [
      "Number of images in the folder: 16121\n"
     ]
    }
   ],
   "source": [
    "import os\n",
    "\n",
    "# Specify the folder path\n",
    "train_data_dir = 'images/'\n",
    "\n",
    "# Count the number of image files\n",
    "image_extensions = ('.jpg', '.jpeg', '.png', '.gif', '.bmp', '.tiff', '.webp')  # Add other extensions if needed\n",
    "image_count = sum(1 for file in os.listdir(train_data_dir) if file.lower().endswith(image_extensions))\n",
    "\n",
    "print(f\"Number of images in the folder: {image_count}\")\n"
   ]
  },
  {
   "cell_type": "code",
   "execution_count": 5,
   "metadata": {
    "colab": {},
    "colab_type": "code",
    "id": "9_ZdsSPGomG0",
    "outputId": "28d5e485-5489-4e04-c64a-7db6692341ba",
    "scrolled": true
   },
   "outputs": [
    {
     "name": "stdout",
     "output_type": "stream",
     "text": [
      "Found 180 images belonging to 2 classes.\n",
      "Found 180 images.\n"
     ]
    },
    {
     "name": "stderr",
     "output_type": "stream",
     "text": [
      "C:\\Users\\Lenovo\\AppData\\Local\\Programs\\Python\\Python312\\Lib\\site-packages\\keras\\src\\trainers\\data_adapters\\py_dataset_adapter.py:121: UserWarning: Your `PyDataset` class should call `super().__init__(**kwargs)` in its constructor. `**kwargs` can include `workers`, `use_multiprocessing`, `max_queue_size`. Do not pass these arguments to `fit()`, as they will be ignored.\n",
      "  self._warn_if_super_not_called()\n"
     ]
    },
    {
     "name": "stdout",
     "output_type": "stream",
     "text": [
      "\u001b[1m16121/16121\u001b[0m \u001b[32m━━━━━━━━━━━━━━━━━━━━\u001b[0m\u001b[37m\u001b[0m \u001b[1m73s\u001b[0m 4ms/step      \n",
      "Bottleneck features shape: (180, 7, 7, 512)\n"
     ]
    },
    {
     "name": "stderr",
     "output_type": "stream",
     "text": [
      "C:\\Users\\Lenovo\\AppData\\Local\\Programs\\Python\\Python312\\Lib\\contextlib.py:158: UserWarning: Your input ran out of data; interrupting training. Make sure that your dataset or generator can generate at least `steps_per_epoch * epochs` batches. You may need to use the `.repeat()` function when building your dataset.\n",
      "  self.gen.throw(value)\n"
     ]
    }
   ],
   "source": [
    "def save_bottlebeck_features():\n",
    "    asins = []\n",
    "    datagen = ImageDataGenerator(rescale=1. / 255)\n",
    "\n",
    "    # build the VGG16 network\n",
    "    model = applications.VGG16(include_top=False, weights='imagenet')\n",
    "    \n",
    "    generator = datagen.flow_from_directory(\n",
    "        train_data_dir,\n",
    "        target_size=(img_width, img_height),\n",
    "        batch_size=batch_size,\n",
    "        class_mode=None,\n",
    "        shuffle=False)\n",
    "\n",
    "    print(f\"Found {generator.samples} images.\")  # Debugging generator\n",
    "\n",
    "    for i in generator.filenames:\n",
    "        asins.append(i[2:-5])\n",
    "\n",
    "    # Ensure the generator is yielding samples\n",
    "    if generator.samples > 0:\n",
    "        bottleneck_features_train = model.predict(generator, steps=nb_train_samples // batch_size)\n",
    "        \n",
    "        print(f\"Bottleneck features shape: {bottleneck_features_train.shape}\")  # Debugging output shape\n",
    "        \n",
    "        # Reshape based on actual output size\n",
    "        bottleneck_features_train = bottleneck_features_train.reshape(bottleneck_features_train.shape[0], -1)\n",
    "\n",
    "        # np.save(open('models/16k_data_cnn_features.npy', 'wb'), bottleneck_features_train)\n",
    "        # np.save(open('models/16k_data_cnn_feature_asins.npy', 'wb'), np.array(asins))\n",
    "    else:\n",
    "        print(\"No images found. Please check the data directory.\")\n",
    "\n",
    "save_bottlebeck_features()\n"
   ]
  },
  {
   "cell_type": "markdown",
   "metadata": {
    "colab_type": "text",
    "id": "i7dbnIH2omG7"
   },
   "source": [
    "# load the extracted features"
   ]
  },
  {
   "cell_type": "code",
   "execution_count": 6,
   "metadata": {
    "colab": {},
    "colab_type": "code",
    "id": "8IdB2CnGomG9"
   },
   "outputs": [],
   "source": [
    "# bottleneck_features_train = np.load('workshop/models/16k_data_cnn_features.npy')\n",
    "asins = np.load('16k_data_cnn_feature_asins.npy')"
   ]
  },
  {
   "cell_type": "markdown",
   "metadata": {
    "colab_type": "text",
    "id": "WoCoJQnRomHG"
   },
   "source": [
    "## get the most similar apparels using euclidean distance measure"
   ]
  },
  {
   "cell_type": "code",
   "execution_count": 7,
   "metadata": {
    "colab": {},
    "colab_type": "code",
    "id": "0zcx_9DtomHJ"
   },
   "outputs": [],
   "source": [
    "data = pd.read_pickle('pickels/16k_apperal_data_preprocessed')\n",
    "df_asins = list(data['asin'])\n",
    "asins = list(asins)"
   ]
  },
  {
   "cell_type": "code",
   "execution_count": 53,
   "metadata": {
    "colab": {},
    "colab_type": "code",
    "id": "k9vFv5GmomHQ",
    "outputId": "bb29c858-62d8-48b3-f173-af33df28ef85"
   },
   "outputs": [
    {
     "data": {
      "image/jpeg": "[encoded data removed]",
      "text/plain": [
       "<IPython.core.display.Image object>"
      ]
     },
     "metadata": {},
     "output_type": "display_data"
    },
    {
     "name": "stdout",
     "output_type": "stream",
     "text": [
      "Product Title:  finders keepers womens fly away top \n",
      "Euclidean Distance from input image: 4.0460973e-06\n",
      "Amazon Url: www.amazon.com/dp/B01N3SAT0R\n"
     ]
    },
    {
     "data": {
      "image/jpeg": "[encoded data removed]",
      "text/plain": [
       "<IPython.core.display.Image object>"
      ]
     },
     "metadata": {},
     "output_type": "display_data"
    },
    {
     "name": "stdout",
     "output_type": "stream",
     "text": [
      "Product Title:  fire womens longsleeve print chiffon fashion slim blouses large white \n",
      "Euclidean Distance from input image: 14.919009\n",
      "Amazon Url: www.amazon.com/dp/B00ZZR0UGC\n"
     ]
    },
    {
     "data": {
      "image/jpeg": "[encoded data removed]",
      "text/plain": [
       "<IPython.core.display.Image object>"
      ]
     },
     "metadata": {},
     "output_type": "display_data"
    },
    {
     "name": "stdout",
     "output_type": "stream",
     "text": [
      "Product Title:  folter clothing black open braided arm top sexy top womens sizes medium \n",
      "Euclidean Distance from input image: 23.578989\n",
      "Amazon Url: www.amazon.com/dp/B0085GF3CQ\n"
     ]
    },
    {
     "data": {
      "image/jpeg": "[encoded data removed]",
      "text/plain": [
       "<IPython.core.display.Image object>"
      ]
     },
     "metadata": {},
     "output_type": "display_data"
    },
    {
     "name": "stdout",
     "output_type": "stream",
     "text": [
      "Product Title:  supernatural chibis sam dean castiel short sleeve shirts women red xs \n",
      "Euclidean Distance from input image: 30.638746\n",
      "Amazon Url: www.amazon.com/dp/B014ICBSE2\n"
     ]
    },
    {
     "data": {
      "image/jpeg": "[encoded data removed]",
      "text/plain": [
       "<IPython.core.display.Image object>"
      ]
     },
     "metadata": {},
     "output_type": "display_data"
    },
    {
     "name": "stdout",
     "output_type": "stream",
     "text": [
      "Product Title:  fig clothing womens dublin top macaroon shirt \n",
      "Euclidean Distance from input image: 31.731806\n",
      "Amazon Url: www.amazon.com/dp/B01MU4SW99\n"
     ]
    }
   ],
   "source": [
    "import numpy as np\n",
    "import pandas as pd\n",
    "from sklearn.metrics import pairwise_distances\n",
    "from IPython.display import display, Image\n",
    "\n",
    "# Load your preprocessed data\n",
    "data = pd.read_pickle('pickels/16k_apperal_data_preprocessed')\n",
    "asins = data['asin'].tolist()  # Assuming 'asin' is the column with ASINs\n",
    "\n",
    "# Load the bottleneck features\n",
    "bottleneck_features_train = np.load('16k_data_cnn_features.npy')\n",
    "\n",
    "def get_similar_products_cnn(doc_id, num_results, bottleneck_features_train):\n",
    "    # Get the index of the document ID in the asins list\n",
    "    doc_id = asins.index(data['asin'].iloc[doc_id])\n",
    "    \n",
    "    # Calculate pairwise distances\n",
    "    pairwise_dist = pairwise_distances(bottleneck_features_train, bottleneck_features_train[doc_id].reshape(1, -1))\n",
    "\n",
    "    # Get the indices of the closest products\n",
    "    indices = np.argsort(pairwise_dist.flatten())[0:num_results]\n",
    "    pdists = np.sort(pairwise_dist.flatten())[0:num_results]\n",
    "\n",
    "    # Display results\n",
    "    for i in range(len(indices)):\n",
    "        rows = data[['medium_image_url', 'title']].loc[data['asin'] == asins[indices[i]]]\n",
    "        for indx, row in rows.iterrows():\n",
    "            display(Image(url=row['medium_image_url'], embed=True))\n",
    "            print('Product Title: ', row['title'])\n",
    "            print('Euclidean Distance from input image:', pdists[i])\n",
    "            print('Amazon Url: www.amazon.com/dp/' + asins[indices[i]])\n",
    "\n",
    "# Call the function with the desired document ID and number of results\n",
    "get_similar_products_cnn(55, 5, bottleneck_features_train)\n",
    "\n"
   ]
  },
  {
   "cell_type": "code",
   "execution_count": null,
   "metadata": {},
   "outputs": [],
   "source": []
  }
 ],
 "metadata": {
  "colab": {
   "name": "image_similarity_cnn.ipynb",
   "provenance": []
  },
  "kernelspec": {
   "display_name": "Python 3 (ipykernel)",
   "language": "python",
   "name": "python3"
  },
  "language_info": {
   "codemirror_mode": {
    "name": "ipython",
    "version": 3
   },
   "file_extension": ".py",
   "mimetype": "text/x-python",
   "name": "python",
   "nbconvert_exporter": "python",
   "pygments_lexer": "ipython3",
   "version": "3.12.2"
  }
 },
 "nbformat": 4,
 "nbformat_minor": 4
}
